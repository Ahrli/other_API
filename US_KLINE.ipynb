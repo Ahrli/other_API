{
 "cells": [
  {
   "cell_type": "code",
   "execution_count": 2,
   "metadata": {},
   "outputs": [],
   "source": [
    "import tiingo"
   ]
  },
  {
   "cell_type": "code",
   "execution_count": 4,
   "metadata": {},
   "outputs": [
    {
     "name": "stdout",
     "output_type": "stream",
     "text": [
      "Name: tiingo\r\n",
      "Version: 0.8.0\r\n",
      "Summary: REST Client for Tiingo Data Platform API\r\n",
      "Home-page: https://github.com/hydrosquall/tiingo-python\r\n",
      "Author: Cameron Yick\r\n",
      "Author-email: cameron.yick@enigma.com\r\n",
      "License: MIT license\r\n",
      "Location: /home/ahrli/anaconda3/lib/python3.7/site-packages\r\n",
      "Requires: requests\r\n",
      "Required-by: \r\n"
     ]
    }
   ],
   "source": [
    "get_ipython().system('pip show tiingo')"
   ]
  },
  {
   "cell_type": "code",
   "execution_count": 6,
   "metadata": {},
   "outputs": [],
   "source": [
    "from tiingo import TiingoClient\n",
    "config = {}\n"
   ]
  },
  {
   "cell_type": "code",
   "execution_count": 8,
   "metadata": {},
   "outputs": [],
   "source": [
    "# To reuse the same HTTP Session across API calls (and have better performance), include a session key.\n",
    "config['session'] = True\n",
    "\n",
    "# If you don't have your API key as an environment variable,\n",
    "# pass it in via a configuration dictionary.\n",
    "config['api_key'] = \"5ad45e5247e9f3ddc3a85005ea92c69d1bc4a552\"\n"
   ]
  },
  {
   "cell_type": "code",
   "execution_count": 10,
   "metadata": {},
   "outputs": [],
   "source": [
    "# Initialize\n",
    "client = TiingoClient(config)"
   ]
  },
  {
   "cell_type": "code",
   "execution_count": 13,
   "metadata": {},
   "outputs": [],
   "source": [
    "\n",
    "\n",
    "data = client.get_dataframe('GOOGL',\n",
    "                    #\"000001.sh\",\n",
    "                    # tickers='000001',\n",
    "                     #frequency='1Min',\n",
    "                     #frequency='day',\n",
    "                     startDate='2019-01-15',\n",
    "                     endDate='2019-01-18')"
   ]
  },
  {
   "cell_type": "code",
   "execution_count": 15,
   "metadata": {},
   "outputs": [
    {
     "name": "stdout",
     "output_type": "stream",
     "text": [
      "            adjClose  adjHigh   adjLow  adjOpen  adjVolume    close  divCash  \\\n",
      "date                                                                           \n",
      "2019-01-15   1086.51  1088.27  1054.44  1058.01    1875852  1086.51      0.0   \n",
      "2019-01-16   1089.51  1102.36  1088.01  1090.00    1914041  1089.51      0.0   \n",
      "2019-01-17   1099.12  1100.70  1083.26  1087.99    1244801  1099.12      0.0   \n",
      "2019-01-18   1107.30  1118.00  1099.28  1108.59    2244569  1107.30      0.0   \n",
      "\n",
      "               high      low     open  splitFactor   volume  \n",
      "date                                                         \n",
      "2019-01-15  1088.27  1054.44  1058.01          1.0  1875852  \n",
      "2019-01-16  1102.36  1088.01  1090.00          1.0  1914041  \n",
      "2019-01-17  1100.70  1083.26  1087.99          1.0  1244801  \n",
      "2019-01-18  1118.00  1099.28  1108.59          1.0  2244569  \n"
     ]
    }
   ],
   "source": [
    "print(data)"
   ]
  },
  {
   "cell_type": "code",
   "execution_count": 30,
   "metadata": {},
   "outputs": [
    {
     "name": "stdout",
     "output_type": "stream",
     "text": [
      "<class 'pandas.core.frame.DataFrame'>\n",
      "               high     open      low    close   volume\n",
      "date                                                   \n",
      "2019-01-15  1088.27  1058.01  1054.44  1086.51  1875852\n",
      "2019-01-16  1102.36  1090.00  1088.01  1089.51  1914041\n",
      "2019-01-17  1100.70  1087.99  1083.26  1099.12  1244801\n",
      "2019-01-18  1118.00  1108.59  1099.28  1107.30  2244569\n"
     ]
    }
   ],
   "source": [
    "print(type(data))\n",
    "data1=data.loc[:,['high','open','low','close','volume']]\n",
    "print(data1)"
   ]
  },
  {
   "cell_type": "code",
   "execution_count": 33,
   "metadata": {},
   "outputs": [
    {
     "name": "stdout",
     "output_type": "stream",
     "text": [
      "               high     open      low    close   volume      code  \\\n",
      "date                                                                \n",
      "2019-01-15  1088.27  1058.01  1054.44  1086.51  1875852  US.GOOGL   \n",
      "2019-01-16  1102.36  1090.00  1088.01  1089.51  1914041  US.GOOGL   \n",
      "2019-01-17  1100.70  1087.99  1083.26  1099.12  1244801  US.GOOGL   \n",
      "2019-01-18  1118.00  1108.59  1099.28  1107.30  2244569  US.GOOGL   \n",
      "\n",
      "                    create_time  \n",
      "date                             \n",
      "2019-01-15  2019-01-15 00:00:00  \n",
      "2019-01-16  2019-01-16 00:00:00  \n",
      "2019-01-17  2019-01-17 00:00:00  \n",
      "2019-01-18  2019-01-18 00:00:00  \n"
     ]
    }
   ],
   "source": [
    "import arrow\n",
    "data1['code'] = 'US.GOOGL'\n",
    "data1['create_time'] = data1.index\n",
    "data1['create_time'] = data1['create_time'].apply(lambda create_time: arrow.get(create_time).format('YYYY-MM-DD HH:mm:ss'))\n",
    "print(data1)\n",
    "import pendulum"
   ]
  },
  {
   "cell_type": "code",
   "execution_count": 38,
   "metadata": {},
   "outputs": [
    {
     "name": "stdout",
     "output_type": "stream",
     "text": [
      "               high     open      low    close   volume      code  \\\n",
      "date                                                                \n",
      "2019-01-15  1088.27  1058.01  1054.44  1086.51  1875852  US.GOOGL   \n",
      "2019-01-16  1102.36  1090.00  1088.01  1089.51  1914041  US.GOOGL   \n",
      "2019-01-17  1100.70  1087.99  1083.26  1099.12  1244801  US.GOOGL   \n",
      "2019-01-18  1118.00  1108.59  1099.28  1107.30  2244569  US.GOOGL   \n",
      "\n",
      "                    create_time    time_key  \n",
      "date                                         \n",
      "2019-01-15  2019-01-15 00:00:00  1547528400  \n",
      "2019-01-16  2019-01-16 00:00:00  1547614800  \n",
      "2019-01-17  2019-01-17 00:00:00  1547701200  \n",
      "2019-01-18  2019-01-18 00:00:00  1547787600  \n"
     ]
    },
    {
     "name": "stderr",
     "output_type": "stream",
     "text": [
      "/home/ahrli/anaconda3/lib/python3.7/site-packages/ipykernel_launcher.py:2: DeprecationWarning: Using the classic formatter in from_format() is deprecated and will no longer be possible in version 2.0. Use the alternative formatter instead.\n",
      "  \n"
     ]
    }
   ],
   "source": [
    "\n",
    "data1['time_key'] = data1['create_time'].apply(lambda create_time: int(pendulum.from_format(create_time, '%Y-%m-%d %H:%M:%S', tz='America/New_York').timestamp()))\n",
    "\n",
    "print(data1)"
   ]
  },
  {
   "cell_type": "code",
   "execution_count": 41,
   "metadata": {},
   "outputs": [
    {
     "data": {
      "text/plain": [
       "[{'high': 1088.27,\n",
       "  'open': 1058.01,\n",
       "  'low': 1054.44,\n",
       "  'close': 1086.51,\n",
       "  'volume': 1875852,\n",
       "  'code': 'US.GOOGL',\n",
       "  'create_time': '2019-01-15 00:00:00',\n",
       "  'time_key': 1547528400},\n",
       " {'high': 1102.36,\n",
       "  'open': 1090.0,\n",
       "  'low': 1088.01,\n",
       "  'close': 1089.51,\n",
       "  'volume': 1914041,\n",
       "  'code': 'US.GOOGL',\n",
       "  'create_time': '2019-01-16 00:00:00',\n",
       "  'time_key': 1547614800},\n",
       " {'high': 1100.7,\n",
       "  'open': 1087.99,\n",
       "  'low': 1083.26,\n",
       "  'close': 1099.12,\n",
       "  'volume': 1244801,\n",
       "  'code': 'US.GOOGL',\n",
       "  'create_time': '2019-01-17 00:00:00',\n",
       "  'time_key': 1547701200},\n",
       " {'high': 1118.0,\n",
       "  'open': 1108.59,\n",
       "  'low': 1099.28,\n",
       "  'close': 1107.3,\n",
       "  'volume': 2244569,\n",
       "  'code': 'US.GOOGL',\n",
       "  'create_time': '2019-01-18 00:00:00',\n",
       "  'time_key': 1547787600}]"
      ]
     },
     "execution_count": 41,
     "metadata": {},
     "output_type": "execute_result"
    }
   ],
   "source": [
    "data1.to_dict('records') "
   ]
  },
  {
   "cell_type": "code",
   "execution_count": 54,
   "metadata": {},
   "outputs": [
    {
     "name": "stdout",
     "output_type": "stream",
     "text": [
      "2019-01-25\n",
      "2019-01-22\n"
     ]
    }
   ],
   "source": [
    "startDate = arrow.now().format('YYYY-MM-DD')\n",
    "endDate = arrow.now().shift(hours=-72).format('YYYY-MM-DD')\n",
    "print(startDate)\n",
    "print(endDate)"
   ]
  },
  {
   "cell_type": "code",
   "execution_count": 56,
   "metadata": {},
   "outputs": [
    {
     "ename": "InvalidFrequencyError",
     "evalue": "Error: day is an invalid frequency.  Check Tiingo API documentation for valid EOD or intraday frequency format.",
     "output_type": "error",
     "traceback": [
      "\u001b[0;31m---------------------------------------------------------------------------\u001b[0m",
      "\u001b[0;31mInvalidFrequencyError\u001b[0m                     Traceback (most recent call last)",
      "\u001b[0;32m<ipython-input-56-7beadc88ade1>\u001b[0m in \u001b[0;36m<module>\u001b[0;34m()\u001b[0m\n\u001b[1;32m     21\u001b[0m                                 \u001b[0mfrequency\u001b[0m\u001b[0;34m=\u001b[0m\u001b[0;34m'day'\u001b[0m\u001b[0;34m,\u001b[0m\u001b[0;34m\u001b[0m\u001b[0m\n\u001b[1;32m     22\u001b[0m                                 \u001b[0mstartDate\u001b[0m\u001b[0;34m=\u001b[0m\u001b[0;34m'2019-01-15'\u001b[0m\u001b[0;34m,\u001b[0m\u001b[0;34m\u001b[0m\u001b[0m\n\u001b[0;32m---> 23\u001b[0;31m                                 endDate='2019-01-18')\n\u001b[0m\u001b[1;32m     24\u001b[0m     \u001b[0;32mtry\u001b[0m\u001b[0;34m:\u001b[0m\u001b[0;34m\u001b[0m\u001b[0m\n\u001b[1;32m     25\u001b[0m         \u001b[0ma\u001b[0m\u001b[0;34m=\u001b[0m \u001b[0ma\u001b[0m\u001b[0;34m.\u001b[0m\u001b[0mappend\u001b[0m\u001b[0;34m(\u001b[0m\u001b[0mdata\u001b[0m\u001b[0;34m,\u001b[0m\u001b[0mignore_index\u001b[0m\u001b[0;34m=\u001b[0m\u001b[0;32mTrue\u001b[0m\u001b[0;34m)\u001b[0m\u001b[0;34m\u001b[0m\u001b[0m\n",
      "\u001b[0;32m~/anaconda3/lib/python3.7/site-packages/tiingo/api.py\u001b[0m in \u001b[0;36mget_dataframe\u001b[0;34m(self, tickers, startDate, endDate, metric_name, frequency)\u001b[0m\n\u001b[1;32m    246\u001b[0m             \u001b[0;32mif\u001b[0m \u001b[0mtype\u001b[0m\u001b[0;34m(\u001b[0m\u001b[0mtickers\u001b[0m\u001b[0;34m)\u001b[0m \u001b[0;32mis\u001b[0m \u001b[0mstr\u001b[0m\u001b[0;34m:\u001b[0m\u001b[0;34m\u001b[0m\u001b[0m\n\u001b[1;32m    247\u001b[0m                 \u001b[0mstock\u001b[0m \u001b[0;34m=\u001b[0m \u001b[0mtickers\u001b[0m\u001b[0;34m\u001b[0m\u001b[0m\n\u001b[0;32m--> 248\u001b[0;31m                 \u001b[0murl\u001b[0m \u001b[0;34m=\u001b[0m \u001b[0mself\u001b[0m\u001b[0;34m.\u001b[0m\u001b[0m_get_url\u001b[0m\u001b[0;34m(\u001b[0m\u001b[0mstock\u001b[0m\u001b[0;34m,\u001b[0m \u001b[0mfrequency\u001b[0m\u001b[0;34m)\u001b[0m\u001b[0;34m\u001b[0m\u001b[0m\n\u001b[0m\u001b[1;32m    249\u001b[0m                 \u001b[0mresponse\u001b[0m \u001b[0;34m=\u001b[0m \u001b[0mself\u001b[0m\u001b[0;34m.\u001b[0m\u001b[0m_request\u001b[0m\u001b[0;34m(\u001b[0m\u001b[0;34m'GET'\u001b[0m\u001b[0;34m,\u001b[0m \u001b[0murl\u001b[0m\u001b[0;34m,\u001b[0m \u001b[0mparams\u001b[0m\u001b[0;34m=\u001b[0m\u001b[0mparams\u001b[0m\u001b[0;34m)\u001b[0m\u001b[0;34m\u001b[0m\u001b[0m\n\u001b[1;32m    250\u001b[0m                 \u001b[0mdf\u001b[0m \u001b[0;34m=\u001b[0m \u001b[0mpd\u001b[0m\u001b[0;34m.\u001b[0m\u001b[0mDataFrame\u001b[0m\u001b[0;34m(\u001b[0m\u001b[0mresponse\u001b[0m\u001b[0;34m.\u001b[0m\u001b[0mjson\u001b[0m\u001b[0;34m(\u001b[0m\u001b[0;34m)\u001b[0m\u001b[0;34m)\u001b[0m\u001b[0;34m\u001b[0m\u001b[0m\n",
      "\u001b[0;32m~/anaconda3/lib/python3.7/site-packages/tiingo/api.py\u001b[0m in \u001b[0;36m_get_url\u001b[0;34m(self, ticker, frequency)\u001b[0m\n\u001b[1;32m    160\u001b[0m             etext = (\"Error: {} is an invalid frequency.  Check Tiingo API documentation \"\n\u001b[1;32m    161\u001b[0m                      \"for valid EOD or intraday frequency format.\")\n\u001b[0;32m--> 162\u001b[0;31m             \u001b[0;32mraise\u001b[0m \u001b[0mInvalidFrequencyError\u001b[0m\u001b[0;34m(\u001b[0m\u001b[0metext\u001b[0m\u001b[0;34m.\u001b[0m\u001b[0mformat\u001b[0m\u001b[0;34m(\u001b[0m\u001b[0mfrequency\u001b[0m\u001b[0;34m)\u001b[0m\u001b[0;34m)\u001b[0m\u001b[0;34m\u001b[0m\u001b[0m\n\u001b[0m\u001b[1;32m    163\u001b[0m         \u001b[0;32melse\u001b[0m\u001b[0;34m:\u001b[0m\u001b[0;34m\u001b[0m\u001b[0m\n\u001b[1;32m    164\u001b[0m             \u001b[0;32mif\u001b[0m \u001b[0mself\u001b[0m\u001b[0;34m.\u001b[0m\u001b[0m_is_eod_frequency\u001b[0m\u001b[0;34m(\u001b[0m\u001b[0mfrequency\u001b[0m\u001b[0;34m)\u001b[0m\u001b[0;34m:\u001b[0m\u001b[0;34m\u001b[0m\u001b[0m\n",
      "\u001b[0;31mInvalidFrequencyError\u001b[0m: Error: day is an invalid frequency.  Check Tiingo API documentation for valid EOD or intraday frequency format."
     ]
    }
   ],
   "source": [
    "\n",
    "from tiingo import TiingoClient\n",
    "import pandas as pd\n",
    "config = {}\n",
    "\n",
    "# To reuse the same HTTP Session across API calls (and have better performance), include a session key.\n",
    "config['session'] = True\n",
    "\n",
    "# If you don't have your API key as an environment variable,\n",
    "# pass it in via a configuration dictionary.\n",
    "config['api_key'] = \"5ad45e5247e9f3ddc3a85005ea92c69d1bc4a552\"\n",
    "\n",
    "# Initialize\n",
    "client = TiingoClient(config)\n",
    "a = None\n",
    "for i in ['BABA','BIDU']:\n",
    "    data = client.get_dataframe(i,\n",
    "                                # \"000001.sh\",\n",
    "                                # tickers='000001',\n",
    "                                # frequency='1Min',\n",
    "                                frequency='day',\n",
    "                                startDate='2019-01-15',\n",
    "                                endDate='2019-01-18')\n",
    "    try:\n",
    "        a= a.append(data,ignore_index=True)\n",
    "\n",
    "    except Exception as e:\n",
    "        a=data\n",
    "\n",
    "print(a)"
   ]
  }
 ],
 "metadata": {
  "kernelspec": {
   "display_name": "Python 3",
   "language": "python",
   "name": "python3"
  },
  "language_info": {
   "codemirror_mode": {
    "name": "ipython",
    "version": 3
   },
   "file_extension": ".py",
   "mimetype": "text/x-python",
   "name": "python",
   "nbconvert_exporter": "python",
   "pygments_lexer": "ipython3",
   "version": "3.7.0"
  }
 },
 "nbformat": 4,
 "nbformat_minor": 2
}
