{
 "cells": [
  {
   "cell_type": "code",
   "execution_count": 3,
   "metadata": {},
   "outputs": [
    {
     "name": "stdout",
     "output_type": "stream",
     "text": [
      "80.0\n",
      "960.0\n",
      "0.096\n"
     ]
    }
   ],
   "source": [
    "a = 10000\n",
    "b = 0.008\n",
    "c = 30\n",
    "print(a*b)\n",
    "print(a*b*12)\n",
    "print(960/10000)"
   ]
  },
  {
   "cell_type": "code",
   "execution_count": 5,
   "metadata": {},
   "outputs": [
    {
     "data": {
      "text/plain": [
       "(0,           code    name  lot_size stock_type stock_child_type stock_owner  \\\n",
       " 0    SH.000001    上证指数       100        IDX              N/A               \n",
       " 1    SH.000002    A股指数       100        IDX              N/A               \n",
       " 2    SH.000003    B股指数       100        IDX              N/A               \n",
       " 3    SH.000004    工业指数       100        IDX              N/A               \n",
       " 4    SH.000005    商业指数       100        IDX              N/A               \n",
       " 5    SH.000006    地产指数       100        IDX              N/A               \n",
       " 6    SH.000007    公用指数       100        IDX              N/A               \n",
       " 7    SH.000008    综合指数       100        IDX              N/A               \n",
       " 8    SH.000009   上证380       100        IDX              N/A               \n",
       " 9    SH.000010   上证180       100        IDX              N/A               \n",
       " 10   SH.000011    基金指数       100        IDX              N/A               \n",
       " 11   SH.000012    国债指数       100        IDX              N/A               \n",
       " 12   SH.000013    企债指数       100        IDX              N/A               \n",
       " 13   SH.000015    红利指数       100        IDX              N/A               \n",
       " 14   SH.000016    上证50       100        IDX              N/A               \n",
       " 15   SH.000017     新综指       100        IDX              N/A               \n",
       " 16   SH.000018   180金融       100        IDX              N/A               \n",
       " 17   SH.000019    治理指数       100        IDX              N/A               \n",
       " 18   SH.000020    中型综指       100        IDX              N/A               \n",
       " 19   SH.000021   180治理       100        IDX              N/A               \n",
       " 20   SH.000022    沪公司债       100        IDX              N/A               \n",
       " 21   SH.000023    沪分离债       100        IDX              N/A               \n",
       " 22   SH.000025   180基建       100        IDX              N/A               \n",
       " 23   SH.000026   180资源       100        IDX              N/A               \n",
       " 24   SH.000027   180运输       100        IDX              N/A               \n",
       " 25   SH.000028   180成长       100        IDX              N/A               \n",
       " 26   SH.000029   180价值       100        IDX              N/A               \n",
       " 27   SH.000030  180R成长       100        IDX              N/A               \n",
       " 28   SH.000031  180R价值       100        IDX              N/A               \n",
       " 29   SH.000032    上证能源       100        IDX              N/A               \n",
       " ..         ...     ...       ...        ...              ...         ...   \n",
       " 275  SH.000976    新华金牛       100        IDX              N/A               \n",
       " 276  SH.000977    内地低碳       100        IDX              N/A               \n",
       " 277  SH.000978   医药100       100        IDX              N/A               \n",
       " 278  SH.000979    大宗商品       100        IDX              N/A               \n",
       " 279  SH.000980    中证超大       100        IDX              N/A               \n",
       " 280  SH.000981   300分层       100        IDX              N/A               \n",
       " 281  SH.000982   500等权       100        IDX              N/A               \n",
       " 282  SH.000983    智能资产       100        IDX              N/A               \n",
       " 283  SH.000984   300等权       100        IDX              N/A               \n",
       " 284  SH.000985    中证全指       100        IDX              N/A               \n",
       " 285  SH.000986    全指能源       100        IDX              N/A               \n",
       " 286  SH.000987    全指材料       100        IDX              N/A               \n",
       " 287  SH.000988    全指工业       100        IDX              N/A               \n",
       " 288  SH.000989    全指可选       100        IDX              N/A               \n",
       " 289  SH.000990    全指消费       100        IDX              N/A               \n",
       " 290  SH.000991    全指医药       100        IDX              N/A               \n",
       " 291  SH.000992    全指金融       100        IDX              N/A               \n",
       " 292  SH.000993    全指信息       100        IDX              N/A               \n",
       " 293  SH.000994    全指电信       100        IDX              N/A               \n",
       " 294  SH.000995    全指公用       100        IDX              N/A               \n",
       " 295  SH.000996    领先行业       100        IDX              N/A               \n",
       " 296  SH.000997     大消费       100        IDX              N/A               \n",
       " 297  SH.000998   中证TMT       100        IDX              N/A               \n",
       " 298  SH.000999    两岸三地       100        IDX              N/A               \n",
       " 299  SH.000170  50AH优选       100        IDX              N/A               \n",
       " 300  SH.000171    新兴成指       100        IDX              N/A               \n",
       " 301  SH.000891    新兴综指       100        IDX              N/A               \n",
       " 302  SH.000000  060001       100        IDX              N/A               \n",
       " 303  SH.000874               100        IDX              N/A               \n",
       " 304  SH.000860               100        IDX              N/A               \n",
       " \n",
       "     option_type strike_time strike_price suspension listing_date  \\\n",
       " 0                                    N/A        N/A   1970-01-01   \n",
       " 1                                    N/A        N/A   1970-01-01   \n",
       " 2                                    N/A        N/A   1970-01-01   \n",
       " 3                                    N/A        N/A   1970-01-01   \n",
       " 4                                    N/A        N/A   1970-01-01   \n",
       " 5                                    N/A        N/A   1970-01-01   \n",
       " 6                                    N/A        N/A   1970-01-01   \n",
       " 7                                    N/A        N/A   1970-01-01   \n",
       " 8                                    N/A        N/A   1970-01-01   \n",
       " 9                                    N/A        N/A   1970-01-01   \n",
       " 10                                   N/A        N/A   1970-01-01   \n",
       " 11                                   N/A        N/A   1970-01-01   \n",
       " 12                                   N/A        N/A   1970-01-01   \n",
       " 13                                   N/A        N/A   1970-01-01   \n",
       " 14                                   N/A        N/A   1970-01-01   \n",
       " 15                                   N/A        N/A   1970-01-01   \n",
       " 16                                   N/A        N/A   1970-01-01   \n",
       " 17                                   N/A        N/A   1970-01-01   \n",
       " 18                                   N/A        N/A   1970-01-01   \n",
       " 19                                   N/A        N/A   1970-01-01   \n",
       " 20                                   N/A        N/A   1970-01-01   \n",
       " 21                                   N/A        N/A   1970-01-01   \n",
       " 22                                   N/A        N/A   1970-01-01   \n",
       " 23                                   N/A        N/A   1970-01-01   \n",
       " 24                                   N/A        N/A   1970-01-01   \n",
       " 25                                   N/A        N/A   1970-01-01   \n",
       " 26                                   N/A        N/A   1970-01-01   \n",
       " 27                                   N/A        N/A   1970-01-01   \n",
       " 28                                   N/A        N/A   1970-01-01   \n",
       " 29                                   N/A        N/A   1970-01-01   \n",
       " ..          ...         ...          ...        ...          ...   \n",
       " 275                                  N/A        N/A   1970-01-01   \n",
       " 276                                  N/A        N/A   1970-01-01   \n",
       " 277                                  N/A        N/A   1970-01-01   \n",
       " 278                                  N/A        N/A   1970-01-01   \n",
       " 279                                  N/A        N/A   1970-01-01   \n",
       " 280                                  N/A        N/A   1970-01-01   \n",
       " 281                                  N/A        N/A   1970-01-01   \n",
       " 282                                  N/A        N/A   1970-01-01   \n",
       " 283                                  N/A        N/A   1970-01-01   \n",
       " 284                                  N/A        N/A   1970-01-01   \n",
       " 285                                  N/A        N/A   1970-01-01   \n",
       " 286                                  N/A        N/A   1970-01-01   \n",
       " 287                                  N/A        N/A   1970-01-01   \n",
       " 288                                  N/A        N/A   1970-01-01   \n",
       " 289                                  N/A        N/A   1970-01-01   \n",
       " 290                                  N/A        N/A   1970-01-01   \n",
       " 291                                  N/A        N/A   1970-01-01   \n",
       " 292                                  N/A        N/A   1970-01-01   \n",
       " 293                                  N/A        N/A   1970-01-01   \n",
       " 294                                  N/A        N/A   1970-01-01   \n",
       " 295                                  N/A        N/A   1970-01-01   \n",
       " 296                                  N/A        N/A   1970-01-01   \n",
       " 297                                  N/A        N/A   1970-01-01   \n",
       " 298                                  N/A        N/A   1970-01-01   \n",
       " 299                                  N/A        N/A   1970-01-01   \n",
       " 300                                  N/A        N/A   1970-01-01   \n",
       " 301                                  N/A        N/A   1970-01-01   \n",
       " 302                                  N/A        N/A   1970-01-01   \n",
       " 303                                  N/A        N/A   1970-01-01   \n",
       " 304                                  N/A        N/A   1970-01-01   \n",
       " \n",
       "            stock_id delisting  \n",
       " 0           1000001       N/A  \n",
       " 1           1000002       N/A  \n",
       " 2           1000003       N/A  \n",
       " 3           1000004       N/A  \n",
       " 4           1000005       N/A  \n",
       " 5           1000006       N/A  \n",
       " 6           1000007       N/A  \n",
       " 7           1000008       N/A  \n",
       " 8           1000009       N/A  \n",
       " 9           1000010       N/A  \n",
       " 10          1000011       N/A  \n",
       " 11          1000012       N/A  \n",
       " 12          1000013       N/A  \n",
       " 13          1000015       N/A  \n",
       " 14          1000016       N/A  \n",
       " 15          1000017       N/A  \n",
       " 16          1000018       N/A  \n",
       " 17          1000019       N/A  \n",
       " 18          1000020       N/A  \n",
       " 19          1000021       N/A  \n",
       " 20          1000022       N/A  \n",
       " 21          1000023       N/A  \n",
       " 22          1000025       N/A  \n",
       " 23          1000026       N/A  \n",
       " 24          1000027       N/A  \n",
       " 25          1000028       N/A  \n",
       " 26          1000029       N/A  \n",
       " 27          1000030       N/A  \n",
       " 28          1000031       N/A  \n",
       " 29          1000032       N/A  \n",
       " ..              ...       ...  \n",
       " 275         1000976       N/A  \n",
       " 276         1000977       N/A  \n",
       " 277         1000978       N/A  \n",
       " 278         1000979       N/A  \n",
       " 279         1000980       N/A  \n",
       " 280         1000981       N/A  \n",
       " 281         1000982       N/A  \n",
       " 282         1000983       N/A  \n",
       " 283         1000984       N/A  \n",
       " 284         1000985       N/A  \n",
       " 285         1000986       N/A  \n",
       " 286         1000987       N/A  \n",
       " 287         1000988       N/A  \n",
       " 288         1000989       N/A  \n",
       " 289         1000990       N/A  \n",
       " 290         1000991       N/A  \n",
       " 291         1000992       N/A  \n",
       " 292         1000993       N/A  \n",
       " 293         1000994       N/A  \n",
       " 294         1000995       N/A  \n",
       " 295         1000996       N/A  \n",
       " 296         1000997       N/A  \n",
       " 297         1000998       N/A  \n",
       " 298         1000999       N/A  \n",
       " 299  73710229734122       N/A  \n",
       " 300  73770359276267       N/A  \n",
       " 301  73830488819131       N/A  \n",
       " 302  73955042869824       N/A  \n",
       " 303  73955042870698       N/A  \n",
       " 304  76690937038236       N/A  \n",
       " \n",
       " [305 rows x 13 columns])"
      ]
     },
     "execution_count": 5,
     "metadata": {},
     "output_type": "execute_result"
    }
   ],
   "source": [
    "quote_ctx.get_stock_basicinfo(Market.SH, SecurityType.IDX)"
   ]
  },
  {
   "cell_type": "code",
   "execution_count": 9,
   "metadata": {},
   "outputs": [
    {
     "name": "stdout",
     "output_type": "stream",
     "text": [
      "   a  b\n",
      "0  1  2\n",
      "1  2  2\n"
     ]
    }
   ],
   "source": [
    "print(b)"
   ]
  },
  {
   "cell_type": "code",
   "execution_count": 11,
   "metadata": {},
   "outputs": [
    {
     "data": {
      "text/plain": [
       "[{'a': 1, 'b': 2}, {'a': 2, 'b': 2}]"
      ]
     },
     "execution_count": 11,
     "metadata": {},
     "output_type": "execute_result"
    }
   ],
   "source": [
    "b.to_dict('records')"
   ]
  },
  {
   "cell_type": "code",
   "execution_count": null,
   "metadata": {},
   "outputs": [],
   "source": [
    "b.iterrows"
   ]
  }
 ],
 "metadata": {
  "kernelspec": {
   "display_name": "Python 3",
   "language": "python",
   "name": "python3"
  },
  "language_info": {
   "codemirror_mode": {
    "name": "ipython",
    "version": 3
   },
   "file_extension": ".py",
   "mimetype": "text/x-python",
   "name": "python",
   "nbconvert_exporter": "python",
   "pygments_lexer": "ipython3",
   "version": "3.7.0"
  }
 },
 "nbformat": 4,
 "nbformat_minor": 2
}
